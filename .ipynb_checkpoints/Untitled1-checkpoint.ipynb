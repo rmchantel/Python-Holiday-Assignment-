{
 "cells": [
  {
   "cell_type": "code",
   "execution_count": 4,
   "id": "866e5b01",
   "metadata": {},
   "outputs": [
    {
     "name": "stdout",
     "output_type": "stream",
     "text": [
      "Enter first list: [1,2,3,4,5]\n",
      "Enter second list: [4,5,8,9]\n",
      "Joined List: [1, 2, 3, 4, 5, 4, 5, 8, 9]\n"
     ]
    }
   ],
   "source": [
    "List1 = eval(input(\"Enter first list: \"))\n",
    "List2 = eval(input(\"Enter second list: \"))\n",
    "List3 = List1 + List2\n",
    "print(\"Joined List:\", List3)"
   ]
  },
  {
   "cell_type": "code",
   "execution_count": 5,
   "id": "8a12c35d",
   "metadata": {},
   "outputs": [
    {
     "name": "stdout",
     "output_type": "stream",
     "text": [
      "Last index of 85 in the list: 5\n"
     ]
    }
   ],
   "source": []
  },
  {
   "cell_type": "code",
   "execution_count": 10,
   "id": "f02bc687",
   "metadata": {},
   "outputs": [
    {
     "name": "stdout",
     "output_type": "stream",
     "text": [
      "Enter number of elements :7\n",
      "1\n",
      "2\n",
      "3\n",
      "4\n",
      "5\n",
      "6\n",
      "7\n",
      "[1, 2, 3, 4, 5, 6, 7]\n",
      "Last index of 6 in the list: 5\n"
     ]
    }
   ],
   "source": []
  },
  {
   "cell_type": "code",
   "execution_count": 12,
   "id": "7563e51d",
   "metadata": {},
   "outputs": [
    {
     "name": "stdout",
     "output_type": "stream",
     "text": [
      "Enter list: [1,2,3,4,5]\n",
      "The range of values in the list is: 5\n"
     ]
    }
   ],
   "source": [
    "\n",
    "def calculate_range(list8):\n",
    "    \n",
    "    # Find the maximum and minimum values in the list\n",
    "    \n",
    "    max_value = max(list8)\n",
    "    min_value = min(list8)\n",
    "\n",
    "    # Calculate the range\n",
    "    value_range = max_value - min_value + 1\n",
    "\n",
    "    return value_range\n",
    "\n",
    "list8 = eval(input(\"Enter list: \"))\n",
    "result = calculate_range(list8)\n",
    "\n",
    "print(f\"The range of values in the list is: {result}\")"
   ]
  },
  {
   "cell_type": "code",
   "execution_count": 16,
   "id": "7f05e57c",
   "metadata": {},
   "outputs": [
    {
     "name": "stdout",
     "output_type": "stream",
     "text": [
      "There are 4 elements between 4 and 17 (inclusive).\n"
     ]
    }
   ],
   "source": [
    "def list_count(list9, min_value, max_value):\n",
    "    # Initialize a counter for elements between min_val and max_val\n",
    "    count = 0\n",
    "\n",
    "    # Iterate through the list and check if each element is within the specified range\n",
    "    for x in list9:\n",
    "        if min_value <= x <= max_value:\n",
    "            count += 1\n",
    "\n",
    "    # Print the count of elements between min_val and max_val\n",
    "    print(f\"There are {count} elements between {min_value} and {max_value} (inclusive).\")\n",
    "\n",
    "# Example usage:\n",
    "\n",
    "list9 = [14, 1, 22, 17, 36, 7, -43, 5]\n",
    "minimum_value = 4\n",
    "maximum_value = 17\n",
    "\n",
    "list_count(list9, minimum_value, maximum_value)\n"
   ]
  },
  {
   "cell_type": "code",
   "execution_count": null,
   "id": "a67d5616",
   "metadata": {},
   "outputs": [],
   "source": [
    "def sorted_num (fig):\n",
    "    # Check if the list is in sorted order\n",
    "    i = 1\n",
    "    while i < len(fig):\n",
    "        if fig[i - 1] > fig[i]:\n",
    "            return False\n",
    "        i += 1\n",
    "    return True\n",
    "\n",
    "# Accept a list of real numbers from the user\n",
    "input_list1 = input(\"Enter the first list: \")\n",
    "numbers = [float(x) for x in input_list1.split()]\n",
    "\n",
    "input_list2 = input(\"Enter the second list: \")\n",
    "numbers = [float(x) for x in input_list2.split()]\n",
    "\n",
    "# Check and print the result using a while loop\n",
    "result = sorted_num (numbers)\n",
    "print(\"The list is in sorted order:\", result)\n",
    "\n",
    "check\n"
   ]
  },
  {
   "cell_type": "code",
   "execution_count": null,
   "id": "dd8ef870",
   "metadata": {},
   "outputs": [],
   "source": []
  }
 ],
 "metadata": {
  "kernelspec": {
   "display_name": "Python 3 (ipykernel)",
   "language": "python",
   "name": "python3"
  },
  "language_info": {
   "codemirror_mode": {
    "name": "ipython",
    "version": 3
   },
   "file_extension": ".py",
   "mimetype": "text/x-python",
   "name": "python",
   "nbconvert_exporter": "python",
   "pygments_lexer": "ipython3",
   "version": "3.11.5"
  }
 },
 "nbformat": 4,
 "nbformat_minor": 5
}
